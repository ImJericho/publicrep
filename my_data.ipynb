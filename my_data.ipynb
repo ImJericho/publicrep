{
  "nbformat": 4,
  "nbformat_minor": 0,
  "metadata": {
    "colab": {
      "name": "my_data.ipynb",
      "provenance": [],
      "collapsed_sections": [],
      "toc_visible": true,
      "authorship_tag": "ABX9TyPjgCfT/1wMgG0qE1xpoDFg",
      "include_colab_link": true
    },
    "kernelspec": {
      "name": "python3",
      "display_name": "Python 3"
    }
  },
  "cells": [
    {
      "cell_type": "markdown",
      "metadata": {
        "id": "view-in-github",
        "colab_type": "text"
      },
      "source": [
        "<a href=\"https://colab.research.google.com/github/vivekpatidar1413/publicrep/blob/main/my_data.ipynb\" target=\"_parent\"><img src=\"https://colab.research.google.com/assets/colab-badge.svg\" alt=\"Open In Colab\"/></a>"
      ]
    },
    {
      "cell_type": "markdown",
      "metadata": {
        "id": "R5-sOHH9p43a"
      },
      "source": [
        "# Creating My Own Data\r\n"
      ]
    },
    {
      "cell_type": "code",
      "metadata": {
        "id": "PXMUx7g1jTpW"
      },
      "source": [
        "import pandas as pd\r\n",
        "import numpy as np\r\n",
        "import matplotlib\r\n",
        "import matplotlib.pyplot as plt"
      ],
      "execution_count": 2,
      "outputs": []
    },
    {
      "cell_type": "code",
      "metadata": {
        "id": "9GyaxxwqFSfS"
      },
      "source": [
        "# from google.colab import files\r\n",
        "# uploded = files.upload()\r\n",
        "# import io\r\n",
        "# mera_data = pd.read_excel(io.BytesIO(uploded['test_data.xlsx']))\r\n",
        "# mera_data"
      ],
      "execution_count": 1,
      "outputs": []
    },
    {
      "cell_type": "code",
      "metadata": {
        "id": "sSBMjCk_FUxi"
      },
      "source": [
        "mera_data = np.array([[144, 300, 600, 1300, 1600, 2000, 3000, 3500, 4000, 5000],[400, 900, 2000, 5000, 9000, 14000, 16000, 18000, 20000, 25000]])"
      ],
      "execution_count": 3,
      "outputs": []
    },
    {
      "cell_type": "code",
      "metadata": {
        "colab": {
          "base_uri": "https://localhost:8080/"
        },
        "id": "nIzZDUoDjDwP",
        "outputId": "28c58407-bc42-4fd9-a8bc-3cad73d8e32d"
      },
      "source": [
        "print(type(mera_data))\r\n",
        "print(mera_data.shape)\r\n",
        "\r\n",
        "x=mera_data[0]\r\n",
        "y=mera_data[1]\r\n",
        "x_test = np.array([457,565,435,386,456,653,786])\r\n",
        "y_test = np.array([457,565,435,386,456,653,786])"
      ],
      "execution_count": 4,
      "outputs": [
        {
          "output_type": "stream",
          "text": [
            "<class 'numpy.ndarray'>\n",
            "(2, 10)\n"
          ],
          "name": "stdout"
        }
      ]
    },
    {
      "cell_type": "code",
      "metadata": {
        "id": "ozXu9iFtjo_Z",
        "colab": {
          "base_uri": "https://localhost:8080/",
          "height": 265
        },
        "outputId": "9981e1b8-2447-440b-f5cb-8962db69ec7d"
      },
      "source": [
        "plt.scatter(mera_data[0], mera_data[1])\r\n",
        "#plt.plot(mera_data[0], mera_data[1])\r\n",
        "plt.show()"
      ],
      "execution_count": 5,
      "outputs": [
        {
          "output_type": "display_data",
          "data": {
            "image/png": "[encoded data removed]",
            "text/plain": [
              "<Figure size 432x288 with 1 Axes>"
            ]
          },
          "metadata": {
            "tags": [],
            "needs_background": "light"
          }
        }
      ]
    },
    {
      "cell_type": "markdown",
      "metadata": {
        "id": "n2Toa0qtKFEA"
      },
      "source": [
        "\r\n",
        "# Graph Ploting"
      ]
    },
    {
      "cell_type": "code",
      "metadata": {
        "id": "UnTsqaxRKO82"
      },
      "source": [
        "def plot(X, Y, X_test, Y_test):\r\n",
        "    plt.scatter( X, Y, c='r', marker='x' )\r\n",
        "    plt.plot(X_test, Y_test , '-o')\r\n",
        "    plt.xlabel('X →')\r\n",
        "    plt.ylabel('Y →')\r\n",
        "    plt.show()"
      ],
      "execution_count": 6,
      "outputs": []
    },
    {
      "cell_type": "code",
      "metadata": {
        "colab": {
          "base_uri": "https://localhost:8080/",
          "height": 279
        },
        "id": "IQMrifwpKVUk",
        "outputId": "c0b8dba9-92fd-4352-8631-22329b6dad33"
      },
      "source": [
        "\r\n",
        " #y_test =0 #Your code here\r\n",
        "plot(x, y, x_test, y_test)"
      ],
      "execution_count": 7,
      "outputs": [
        {
          "output_type": "display_data",
          "data": {
            "image/png": "[encoded data removed]",
            "text/plain": [
              "<Figure size 432x288 with 1 Axes>"
            ]
          },
          "metadata": {
            "tags": [],
            "needs_background": "light"
          }
        }
      ]
    },
    {
      "cell_type": "markdown",
      "metadata": {
        "id": "THIVujJiqNI5"
      },
      "source": [
        "# Apllying Linear Regression"
      ]
    },
    {
      "cell_type": "markdown",
      "metadata": {
        "id": "o_ifRXkPqj9-"
      },
      "source": [
        "Defining Cost function and Hypothesis"
      ]
    },
    {
      "cell_type": "code",
      "metadata": {
        "id": "i50FIz-YqjPb"
      },
      "source": [
        "def linear_regression(no_of_itration,x,y,alpha):\r\n",
        "  Q_0 = 0\r\n",
        "  Q_1 = 0\r\n",
        "\r\n",
        "  y_pred = Q_0 + Q_1*x\r\n",
        "  \r\n",
        "  for i  in range(no_of_itration):\r\n",
        "\r\n",
        "    cost_function = np.sum((y_pred - y)**2/(2*len(x)))\r\n",
        "\r\n",
        "    grad_Q_1 = np.sum(x*(y_pred - y)/len(x))\r\n",
        "    grad_Q_0 = np.sum((y_pred-y)/len(x))\r\n",
        "\r\n",
        "    Q_0 = Q_0 - alpha*grad_Q_0\r\n",
        "    Q_1 = Q_1 - alpha*grad_Q_1\r\n",
        "\r\n",
        "    plt.scatter(x,y_pred)\r\n",
        "  return cost_function"
      ],
      "execution_count": 8,
      "outputs": []
    },
    {
      "cell_type": "code",
      "metadata": {
        "colab": {
          "base_uri": "https://localhost:8080/",
          "height": 283
        },
        "id": "71czcddpEs8K",
        "outputId": "d7004b3c-cced-4803-bd56-387e1f928f86"
      },
      "source": [
        "cost_function = linear_regression(no_of_itration=50,x=x,y=y,alpha=0.01)\r\n",
        "print(cost_function)"
      ],
      "execution_count": 10,
      "outputs": [
        {
          "output_type": "stream",
          "text": [
            "95598500.0\n"
          ],
          "name": "stdout"
        },
        {
          "output_type": "display_data",
          "data": {
            "image/png": "[encoded data removed]",
            "text/plain": [
              "<Figure size 432x288 with 1 Axes>"
            ]
          },
          "metadata": {
            "tags": [],
            "needs_background": "light"
          }
        }
      ]
    },
    {
      "cell_type": "code",
      "metadata": {
        "id": "-CxIiFTX2X-f"
      },
      "source": [
        ""
      ],
      "execution_count": null,
      "outputs": []
    }
  ]
}